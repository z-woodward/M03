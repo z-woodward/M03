{
 "cells": [
  {
   "cell_type": "code",
   "execution_count": 1,
   "id": "ec2bedc0",
   "metadata": {},
   "outputs": [
    {
     "name": "stdout",
     "output_type": "stream",
     "text": [
      "Please enter your vehicle type: car\n",
      "Please enter the year of your vehicle: 2021\n",
      "Please enter the make of your vehicle: Ford\n",
      "Please enter the model of your vehicle: Edge\n",
      "Please enter the number of doors your vehicle has: 4\n",
      "Please enter the type of roof your vehicle has: solid\n",
      "Vehicle type: car\n",
      "Year: 2021\n",
      "Make: Ford\n",
      "Model: Edge\n",
      "Number of doors: 4\n",
      "Type of roof: solid\n"
     ]
    }
   ],
   "source": [
    "#Zachary Woodward\n",
    "#M03 Case Study\n",
    "#Vician - 202320 Fall 2023 2\n",
    "#program to store are print vehicle data via classes\n",
    "\n",
    "class vehicle:\n",
    "    def __init__(self, type, year, make, model, doors, roof):\n",
    "        self.type = type\n",
    "        self.year = year\n",
    "        self.make = make\n",
    "        self.model = model\n",
    "        self.doors = doors\n",
    "        self.roof = roof\n",
    "\n",
    "class auto(vehicle):\n",
    "    def __init__(self, car, year, make, model, doors, roof):\n",
    "        super().__init__(car, year, make, model, doors, roof)\n",
    "\n",
    "user_type = input(\"Please enter your vehicle type: \")\n",
    "user_year = input(\"Please enter the year of your vehicle: \")\n",
    "user_make = input(\"Please enter the make of your vehicle: \")\n",
    "user_model = input(\"Please enter the model of your vehicle: \")\n",
    "user_doors = input(\"Please enter the number of doors your vehicle has (2 or 4): \")\n",
    "user_roof = input(\"Please enter the type of roof your vehicle has (solid or sunroof): \")\n",
    "\n",
    "user_vehicle = vehicle(user_type, user_year, user_make, user_model, user_doors, user_roof)\n",
    "\n",
    "print(\"Vehicle type: \" + user_vehicle.type)\n",
    "print(\"Year: \" + user_vehicle.year)\n",
    "print(\"Make: \" + user_vehicle.make)\n",
    "print(\"Model: \" + user_vehicle.model)\n",
    "print(\"Number of doors: \" + user_vehicle.doors)\n",
    "print(\"Type of roof: \" + user_vehicle.roof)"
   ]
  },
  {
   "cell_type": "code",
   "execution_count": null,
   "id": "d2d979f8",
   "metadata": {},
   "outputs": [],
   "source": []
  }
 ],
 "metadata": {
  "kernelspec": {
   "display_name": "Python 3 (ipykernel)",
   "language": "python",
   "name": "python3"
  },
  "language_info": {
   "codemirror_mode": {
    "name": "ipython",
    "version": 3
   },
   "file_extension": ".py",
   "mimetype": "text/x-python",
   "name": "python",
   "nbconvert_exporter": "python",
   "pygments_lexer": "ipython3",
   "version": "3.11.5"
  }
 },
 "nbformat": 4,
 "nbformat_minor": 5
}
